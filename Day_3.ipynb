{
 "cells": [
  {
   "cell_type": "code",
   "execution_count": null,
   "id": "3540ebc3",
   "metadata": {},
   "outputs": [],
   "source": [
    "Continuation of strings : "
   ]
  },
  {
   "cell_type": "code",
   "execution_count": 1,
   "id": "3129aa68",
   "metadata": {},
   "outputs": [
    {
     "name": "stdout",
     "output_type": "stream",
     "text": [
      "samala nakshatra\n"
     ]
    }
   ],
   "source": [
    "full_name = 'samala nakshatra'\n",
    "print(full_name)"
   ]
  },
  {
   "cell_type": "code",
   "execution_count": 2,
   "id": "d71d73be",
   "metadata": {},
   "outputs": [
    {
     "data": {
      "text/plain": [
       "str"
      ]
     },
     "execution_count": 2,
     "metadata": {},
     "output_type": "execute_result"
    }
   ],
   "source": [
    "type(full_name)"
   ]
  },
  {
   "cell_type": "code",
   "execution_count": null,
   "id": "c31ba2e1",
   "metadata": {},
   "outputs": [],
   "source": []
  },
  {
   "cell_type": "code",
   "execution_count": 3,
   "id": "291ccc6d",
   "metadata": {},
   "outputs": [
    {
     "name": "stdout",
     "output_type": "stream",
     "text": [
      "Samala Nakshatra\n"
     ]
    }
   ],
   "source": [
    "print(full_name.title())"
   ]
  },
  {
   "cell_type": "code",
   "execution_count": null,
   "id": "ac9f6bd1",
   "metadata": {},
   "outputs": [],
   "source": [
    "# req : i want to print the entire name in capitals ?"
   ]
  },
  {
   "cell_type": "code",
   "execution_count": 4,
   "id": "036afa62",
   "metadata": {},
   "outputs": [
    {
     "name": "stdout",
     "output_type": "stream",
     "text": [
      "SAMALA NAKSHATRA\n"
     ]
    }
   ],
   "source": [
    "print(full_name.upper())"
   ]
  },
  {
   "cell_type": "code",
   "execution_count": null,
   "id": "aca92f63",
   "metadata": {},
   "outputs": [],
   "source": [
    "# req : i want to print the entire name in small case letters ?"
   ]
  },
  {
   "cell_type": "code",
   "execution_count": 5,
   "id": "93ce17d7",
   "metadata": {},
   "outputs": [
    {
     "name": "stdout",
     "output_type": "stream",
     "text": [
      "samala nakshatra\n"
     ]
    }
   ],
   "source": [
    "print(full_name.lower())"
   ]
  },
  {
   "cell_type": "code",
   "execution_count": null,
   "id": "5ccbfa6e",
   "metadata": {},
   "outputs": [],
   "source": []
  },
  {
   "cell_type": "code",
   "execution_count": null,
   "id": "e9791e2d",
   "metadata": {},
   "outputs": [],
   "source": [
    "Introduction to f strings :"
   ]
  },
  {
   "cell_type": "code",
   "execution_count": 6,
   "id": "0ccb4ed2",
   "metadata": {},
   "outputs": [],
   "source": [
    "first_name = 'nakshatra'\n",
    "last_name = 'samala'"
   ]
  },
  {
   "cell_type": "code",
   "execution_count": null,
   "id": "d65337f1",
   "metadata": {},
   "outputs": [],
   "source": [
    "# req : i want to get the full name ?"
   ]
  },
  {
   "cell_type": "code",
   "execution_count": null,
   "id": "d2e26b61",
   "metadata": {},
   "outputs": [],
   "source": [
    "# Genral syntax of f strings :\n",
    "f\" custom words {placeholder1} {placeholder2}.....{placeholder...n}\""
   ]
  },
  {
   "cell_type": "code",
   "execution_count": null,
   "id": "f1ac0cc0",
   "metadata": {},
   "outputs": [],
   "source": []
  },
  {
   "cell_type": "code",
   "execution_count": 7,
   "id": "e8839d87",
   "metadata": {},
   "outputs": [
    {
     "name": "stdout",
     "output_type": "stream",
     "text": [
      "nakshatra samala\n"
     ]
    }
   ],
   "source": [
    "full_name = f\"{first_name} {last_name}\"\n",
    "print(full_name)"
   ]
  },
  {
   "cell_type": "code",
   "execution_count": 8,
   "id": "c362da52",
   "metadata": {},
   "outputs": [
    {
     "name": "stdout",
     "output_type": "stream",
     "text": [
      "Nakshatra Samala\n"
     ]
    }
   ],
   "source": [
    "print(full_name.title())"
   ]
  },
  {
   "cell_type": "code",
   "execution_count": 10,
   "id": "c24c21cb",
   "metadata": {},
   "outputs": [
    {
     "name": "stdout",
     "output_type": "stream",
     "text": [
      "Hello,Nakshatra Samala\n"
     ]
    }
   ],
   "source": [
    "print(f\"Hello,{full_name.title()}\") "
   ]
  },
  {
   "cell_type": "code",
   "execution_count": 11,
   "id": "6ad33e6c",
   "metadata": {},
   "outputs": [
    {
     "name": "stdout",
     "output_type": "stream",
     "text": [
      "Hai,Nakshatra Samala\n"
     ]
    }
   ],
   "source": [
    "print(f\"Hai,{full_name.title()}\")"
   ]
  },
  {
   "cell_type": "code",
   "execution_count": null,
   "id": "309f9532",
   "metadata": {},
   "outputs": [],
   "source": []
  },
  {
   "cell_type": "code",
   "execution_count": null,
   "id": "f3197b6f",
   "metadata": {},
   "outputs": [],
   "source": [
    "Adding whitespaces to strings :"
   ]
  },
  {
   "cell_type": "code",
   "execution_count": 1,
   "id": "00a4be6d",
   "metadata": {},
   "outputs": [
    {
     "name": "stdout",
     "output_type": "stream",
     "text": [
      "fav_prog_language:Pythonc++javacodalpascalsql\n"
     ]
    }
   ],
   "source": [
    "print(\"fav_prog_language:Pythonc++javacodalpascalsql\")"
   ]
  },
  {
   "cell_type": "code",
   "execution_count": 4,
   "id": "b4619563",
   "metadata": {},
   "outputs": [
    {
     "name": "stdout",
     "output_type": "stream",
     "text": [
      "fav_prog_language:Python\n",
      "c++\n",
      "java\n",
      "codal\n",
      "pascal\n",
      "sql\n"
     ]
    }
   ],
   "source": [
    "print(\"fav_prog_language:Python\\nc++\\njava\\ncodal\\npascal\\nsql\")"
   ]
  },
  {
   "cell_type": "code",
   "execution_count": null,
   "id": "149fe88e",
   "metadata": {},
   "outputs": [],
   "source": [
    "# \\n -----> new line demiliter"
   ]
  },
  {
   "cell_type": "code",
   "execution_count": 5,
   "id": "4d2dd381",
   "metadata": {},
   "outputs": [
    {
     "name": "stdout",
     "output_type": "stream",
     "text": [
      "fav_prog_language:Python\n",
      "\tc++\n",
      "\tjava\n",
      "\tcodal\n",
      "\tpascal\n",
      "\tsql\n"
     ]
    }
   ],
   "source": [
    "print(\"fav_prog_language:Python\\n\\tc++\\n\\tjava\\n\\tcodal\\n\\tpascal\\n\\tsql\")"
   ]
  },
  {
   "cell_type": "code",
   "execution_count": null,
   "id": "bbe74da2",
   "metadata": {},
   "outputs": [],
   "source": [
    "# \\t -----> tab demiliter"
   ]
  },
  {
   "cell_type": "code",
   "execution_count": null,
   "id": "9ff66d7f",
   "metadata": {},
   "outputs": [],
   "source": []
  },
  {
   "cell_type": "code",
   "execution_count": null,
   "id": "b2860ac6",
   "metadata": {},
   "outputs": [],
   "source": [
    "Removing whitespaces from the strings :"
   ]
  },
  {
   "cell_type": "code",
   "execution_count": 6,
   "id": "2ff11831",
   "metadata": {},
   "outputs": [
    {
     "name": "stdout",
     "output_type": "stream",
     "text": [
      "Python\n"
     ]
    }
   ],
   "source": [
    "language = 'Python'\n",
    "print(language)"
   ]
  },
  {
   "cell_type": "code",
   "execution_count": 7,
   "id": "73989706",
   "metadata": {},
   "outputs": [
    {
     "name": "stdout",
     "output_type": "stream",
     "text": [
      "   java\n"
     ]
    }
   ],
   "source": [
    "language2 = '   java'\n",
    "print(language2)"
   ]
  },
  {
   "cell_type": "code",
   "execution_count": 8,
   "id": "2b21a017",
   "metadata": {},
   "outputs": [
    {
     "name": "stdout",
     "output_type": "stream",
     "text": [
      "c  \n"
     ]
    }
   ],
   "source": [
    "language3 = 'c  '\n",
    "print(language3)"
   ]
  },
  {
   "cell_type": "code",
   "execution_count": null,
   "id": "845237d6",
   "metadata": {},
   "outputs": [],
   "source": []
  },
  {
   "cell_type": "code",
   "execution_count": 9,
   "id": "ab751d8e",
   "metadata": {},
   "outputs": [
    {
     "data": {
      "text/plain": [
       "'java'"
      ]
     },
     "execution_count": 9,
     "metadata": {},
     "output_type": "execute_result"
    }
   ],
   "source": [
    "language2.lstrip()     # left side stripping left elimination"
   ]
  },
  {
   "cell_type": "code",
   "execution_count": null,
   "id": "38fa74cb",
   "metadata": {},
   "outputs": [],
   "source": []
  },
  {
   "cell_type": "code",
   "execution_count": 13,
   "id": "19715582",
   "metadata": {},
   "outputs": [
    {
     "data": {
      "text/plain": [
       "'c'"
      ]
     },
     "execution_count": 13,
     "metadata": {},
     "output_type": "execute_result"
    }
   ],
   "source": [
    "language3.rstrip()     # right side stripping right elimination"
   ]
  },
  {
   "cell_type": "code",
   "execution_count": null,
   "id": "1c612ef0",
   "metadata": {},
   "outputs": [],
   "source": []
  },
  {
   "cell_type": "code",
   "execution_count": 11,
   "id": "f73f665e",
   "metadata": {},
   "outputs": [
    {
     "name": "stdout",
     "output_type": "stream",
     "text": [
      "   nakshatra   \n"
     ]
    }
   ],
   "source": [
    "name = '   nakshatra   '\n",
    "print(name)"
   ]
  },
  {
   "cell_type": "code",
   "execution_count": 12,
   "id": "58855b18",
   "metadata": {},
   "outputs": [
    {
     "data": {
      "text/plain": [
       "'nakshatra'"
      ]
     },
     "execution_count": 12,
     "metadata": {},
     "output_type": "execute_result"
    }
   ],
   "source": [
    "name.strip()"
   ]
  },
  {
   "cell_type": "code",
   "execution_count": null,
   "id": "1d03c006",
   "metadata": {},
   "outputs": [],
   "source": [
    "1. search -----> 2. Eliminate"
   ]
  },
  {
   "cell_type": "code",
   "execution_count": null,
   "id": "008da130",
   "metadata": {},
   "outputs": [],
   "source": []
  },
  {
   "cell_type": "code",
   "execution_count": null,
   "id": "82e6ed5e",
   "metadata": {},
   "outputs": [],
   "source": []
  }
 ],
 "metadata": {
  "kernelspec": {
   "display_name": "Python 3 (ipykernel)",
   "language": "python",
   "name": "python3"
  },
  "language_info": {
   "codemirror_mode": {
    "name": "ipython",
    "version": 3
   },
   "file_extension": ".py",
   "mimetype": "text/x-python",
   "name": "python",
   "nbconvert_exporter": "python",
   "pygments_lexer": "ipython3",
   "version": "3.7.10"
  }
 },
 "nbformat": 4,
 "nbformat_minor": 5
}
